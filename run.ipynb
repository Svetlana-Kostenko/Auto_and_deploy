{
 "cells": [
  {
   "cell_type": "code",
   "execution_count": 1,
   "id": "b3c809a1-93c3-4ffc-acb3-36536f130cce",
   "metadata": {
    "execution": {
     "iopub.execute_input": "2025-08-28T07:24:41.623455Z",
     "iopub.status.busy": "2025-08-28T07:24:41.619571Z",
     "iopub.status.idle": "2025-08-28T07:24:41.749262Z",
     "shell.execute_reply": "2025-08-28T07:24:41.748681Z"
    }
   },
   "outputs": [],
   "source": [
    "import configparser\n",
    "import csv\n",
    "import glob\n",
    "import logging\n",
    "import re\n",
    "from datetime import datetime\n",
    "from db_connect import DatabaseConnection\n",
    "from logging_config import set_logs"
   ]
  },
  {
   "cell_type": "code",
   "execution_count": 2,
   "id": "6270f37e-ad7b-4110-b1c2-9128d817e74f",
   "metadata": {
    "execution": {
     "iopub.execute_input": "2025-08-28T07:24:41.755123Z",
     "iopub.status.busy": "2025-08-28T07:24:41.753238Z",
     "iopub.status.idle": "2025-08-28T07:24:42.114864Z",
     "shell.execute_reply": "2025-08-28T07:24:42.113914Z"
    }
   },
   "outputs": [],
   "source": [
    "# для записи логов\n",
    "logger = set_logs(datetime.now())\n",
    "\n",
    "# чтение файла с данными для подключения\n",
    "config = configparser.ConfigParser()\n",
    "config.read(\"config.ini\")\n",
    "DATABASE_CREDS = config[\"Database\"]\n",
    "DATABASE=DATABASE_CREDS[\"DATABASE\"]\n",
    "USER=DATABASE_CREDS[\"USER\"]\n",
    "PASSWORD=DATABASE_CREDS[\"PASSWORD\"]\n",
    "HOST=DATABASE_CREDS[\"HOST\"]\n",
    "PORT=DATABASE_CREDS[\"PORT\"]\n",
    "\n",
    "# Поиск всех файлов .csv в папке data\n",
    "files = glob.glob('data/*.csv')\n",
    "# регулярное выражение для поиска нужных файлов\n",
    "pattern = r'data\\\\(1[0-9]|20)-(1|2|3|4|5)\\.csv$' \n",
    "with DatabaseConnection(DATABASE, USER, PASSWORD, HOST, PORT) as dbc:\n",
    "        for file_path in files:\n",
    "            if re.search(pattern, file_path):\n",
    "                with open(file_path, 'r', encoding='utf-8') as file:\n",
    "                    csv_reader = csv.reader(file)\n",
    "                    next(csv_reader)\n",
    "                    data = list(csv_reader)\n",
    "                insert_query = \"\"\"\n",
    "                INSERT INTO finance (doc_id, item, category,\n",
    "                                    amount, price, discount)\n",
    "                VALUES (%s, %s, %s, %s, %s, %s)\n",
    "                \"\"\"          \n",
    "                # запись в БД    \n",
    "                dbc.insert_data(insert_query, data, file_path)\n",
    "# закрытие файла с логами\n",
    "logger.close()"
   ]
  }
 ],
 "metadata": {
  "kernelspec": {
   "display_name": "Python 3 (ipykernel)",
   "language": "python",
   "name": "python3"
  },
  "language_info": {
   "codemirror_mode": {
    "name": "ipython",
    "version": 3
   },
   "file_extension": ".py",
   "mimetype": "text/x-python",
   "name": "python",
   "nbconvert_exporter": "python",
   "pygments_lexer": "ipython3",
   "version": "3.13.5"
  }
 },
 "nbformat": 4,
 "nbformat_minor": 5
}
